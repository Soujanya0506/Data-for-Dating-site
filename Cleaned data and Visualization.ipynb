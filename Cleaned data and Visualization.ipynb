{
 "cells": [
  {
   "cell_type": "markdown",
   "metadata": {},
   "source": [
    "# Data_for_Dating_site Task 1: Is there a correlation between user's location (rural or urban) and their age?\n",
    "### Once we have our data, we need to determine the necessary one and in this case it is the  correlation between location and their age.\n"
   ]
  },
  {
   "cell_type": "code",
   "execution_count": 1,
   "metadata": {},
   "outputs": [],
   "source": [
    "# Necessary data is determined by:\n",
    "# 1. First we need to determine what data could disaprove our hypothesis (for instance, age affects dating patterns)\n",
    "# 2. Second, we find out how much data to collect. Whole population is ideal but impractical so we need to choose a sample set of data.\n",
    "# According to the Sample size calculator online, information like margin of error (in my case 5% as larger the error, the less confidence we should have), confidence level (95%), population size and Likely sample proportion (50%)"
   ]
  },
  {
   "cell_type": "code",
   "execution_count": 2,
   "metadata": {},
   "outputs": [],
   "source": [
    "import pandas as pd\n",
    "import matplotlib.pyplot as plt\n",
    "import seaborn as sns"
   ]
  },
  {
   "cell_type": "code",
   "execution_count": 10,
   "metadata": {},
   "outputs": [],
   "source": [
    "# Import the CSV files and create the DataFrames:\n",
    "user_data = pd.read_csv(\"user_data.csv\")"
   ]
  },
  {
   "cell_type": "code",
   "execution_count": 13,
   "metadata": {},
   "outputs": [],
   "source": [
    "us_cities_small = pd.read_csv(\"us_cities_small.csv\")"
   ]
  },
  {
   "cell_type": "code",
   "execution_count": 12,
   "metadata": {},
   "outputs": [
    {
     "name": "stdout",
     "output_type": "stream",
     "text": [
      "              city        education  age\n",
      "0     Brooklyn, NY          college   31\n",
      "1     Brooklyn, NY  graduate degree   31\n",
      "2     Brooklyn, NY  graduate degree   32\n",
      "3     Brooklyn, NY          college   37\n",
      "4     Brooklyn, NY          college   21\n",
      "5       Austin, TX          college   25\n",
      "6      Oakland, CA  graduate degree   29\n",
      "7   Pittsburgh, PA          college   29\n",
      "8   Pittsburgh, PA          college   27\n",
      "9   Pittsburgh, PA  graduate degree   28\n",
      "10        Ames, IA          college   31\n",
      "11      Albany, NY  graduate degree   31\n",
      "12   Lancaster, PA          college   31\n",
      "13        Reno, NV      high school   31\n",
      "14     Houston, TX      high school   31\n"
     ]
    }
   ],
   "source": [
    "print(user_data.head(15))"
   ]
  },
  {
   "cell_type": "code",
   "execution_count": 14,
   "metadata": {},
   "outputs": [],
   "source": [
    "new_df = pd.merge(user_data, us_cities_small)"
   ]
  },
  {
   "cell_type": "code",
   "execution_count": 15,
   "metadata": {},
   "outputs": [
    {
     "name": "stdout",
     "output_type": "stream",
     "text": [
      "              city        education  age  population_proper\n",
      "0     Brooklyn, NY          college   31          2629150.0\n",
      "1     Brooklyn, NY  graduate degree   31          2629150.0\n",
      "2     Brooklyn, NY  graduate degree   32          2629150.0\n",
      "3     Brooklyn, NY          college   37          2629150.0\n",
      "4     Brooklyn, NY          college   21          2629150.0\n",
      "5       Austin, TX          college   25           947890.0\n",
      "6       Austin, TX  graduate degree   22           947890.0\n",
      "7      Oakland, CA  graduate degree   29           420005.0\n",
      "8   Pittsburgh, PA          college   29           303625.0\n",
      "9   Pittsburgh, PA          college   27           303625.0\n",
      "10  Pittsburgh, PA  graduate degree   28           303625.0\n",
      "11  Pittsburgh, PA  graduate degree   36           303625.0\n",
      "12        Ames, IA          college   31            66191.0\n",
      "13      Albany, NY  graduate degree   31            98111.0\n",
      "14   Lancaster, PA          college   31            59218.0\n"
     ]
    }
   ],
   "source": [
    "print(new_df.head(15))"
   ]
  },
  {
   "cell_type": "code",
   "execution_count": 16,
   "metadata": {},
   "outputs": [],
   "source": [
    "new_df.loc[new_df.population_proper < 100000, \"location\"]=\"rural\""
   ]
  },
  {
   "cell_type": "code",
   "execution_count": 17,
   "metadata": {},
   "outputs": [],
   "source": [
    "new_df.loc[new_df.population_proper >= 100000, \"location\"] = \"urban\""
   ]
  },
  {
   "cell_type": "code",
   "execution_count": 18,
   "metadata": {},
   "outputs": [
    {
     "name": "stdout",
     "output_type": "stream",
     "text": [
      "              city        education  age  population_proper location\n",
      "0     Brooklyn, NY          college   31          2629150.0    urban\n",
      "1     Brooklyn, NY  graduate degree   31          2629150.0    urban\n",
      "2     Brooklyn, NY  graduate degree   32          2629150.0    urban\n",
      "3     Brooklyn, NY          college   37          2629150.0    urban\n",
      "4     Brooklyn, NY          college   21          2629150.0    urban\n",
      "5       Austin, TX          college   25           947890.0    urban\n",
      "6       Austin, TX  graduate degree   22           947890.0    urban\n",
      "7      Oakland, CA  graduate degree   29           420005.0    urban\n",
      "8   Pittsburgh, PA          college   29           303625.0    urban\n",
      "9   Pittsburgh, PA          college   27           303625.0    urban\n",
      "10  Pittsburgh, PA  graduate degree   28           303625.0    urban\n",
      "11  Pittsburgh, PA  graduate degree   36           303625.0    urban\n",
      "12        Ames, IA          college   31            66191.0    rural\n",
      "13      Albany, NY  graduate degree   31            98111.0    rural\n",
      "14   Lancaster, PA          college   31            59218.0    rural\n"
     ]
    }
   ],
   "source": [
    "print(new_df.head(15))"
   ]
  },
  {
   "cell_type": "code",
   "execution_count": 19,
   "metadata": {},
   "outputs": [
    {
     "data": {
      "text/plain": [
       "<matplotlib.axes._subplots.AxesSubplot at 0x17a50d47608>"
      ]
     },
     "execution_count": 19,
     "metadata": {},
     "output_type": "execute_result"
    },
    {
     "data": {
      "image/png": "[encoded data removed]",
      "text/plain": [
       "<Figure size 432x288 with 1 Axes>"
      ]
     },
     "metadata": {
      "needs_background": "light"
     },
     "output_type": "display_data"
    }
   ],
   "source": [
    "age = new_df[\"age\"]\n",
    "sns.distplot(age)"
   ]
  },
  {
   "cell_type": "code",
   "execution_count": 20,
   "metadata": {},
   "outputs": [],
   "source": [
    "plt.show()\n",
    "# From the graph, we can incur that the dataset is not evenly distributed as there are highest number of instances in 30-35 age range.This histogram shows the relative amounts of people with each age. "
   ]
  },
  {
   "cell_type": "code",
   "execution_count": 21,
   "metadata": {},
   "outputs": [],
   "source": [
    "location_mean_age = new_df.groupby(\"location\").age.mean()"
   ]
  },
  {
   "cell_type": "code",
   "execution_count": 22,
   "metadata": {},
   "outputs": [
    {
     "name": "stdout",
     "output_type": "stream",
     "text": [
      "location\n",
      "rural    31.142857\n",
      "urban    29.609195\n",
      "Name: age, dtype: float64\n"
     ]
    }
   ],
   "source": [
    "print(location_mean_age)"
   ]
  },
  {
   "cell_type": "code",
   "execution_count": 23,
   "metadata": {},
   "outputs": [],
   "source": [
    "# average age of a user is younger in urban than on a rural setting."
   ]
  },
  {
   "cell_type": "code",
   "execution_count": 24,
   "metadata": {},
   "outputs": [
    {
     "data": {
      "image/png": "[encoded data removed]",
      "text/plain": [
       "<Figure size 432x288 with 1 Axes>"
      ]
     },
     "metadata": {
      "needs_background": "light"
     },
     "output_type": "display_data"
    }
   ],
   "source": [
    "plt.close()\n",
    "sns.barplot(\n",
    "    data=new_df,\n",
    "    x= \"location\",\n",
    "    y= \"age\"\n",
    ")\n",
    "plt.show()"
   ]
  },
  {
   "cell_type": "code",
   "execution_count": null,
   "metadata": {},
   "outputs": [],
   "source": []
  }
 ],
 "metadata": {
  "kernelspec": {
   "display_name": "Python 3",
   "language": "python",
   "name": "python3"
  },
  "language_info": {
   "codemirror_mode": {
    "name": "ipython",
    "version": 3
   },
   "file_extension": ".py",
   "mimetype": "text/x-python",
   "name": "python",
   "nbconvert_exporter": "python",
   "pygments_lexer": "ipython3",
   "version": "3.7.6"
  }
 },
 "nbformat": 4,
 "nbformat_minor": 4
}
